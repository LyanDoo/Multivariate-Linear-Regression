{
  "nbformat": 4,
  "nbformat_minor": 0,
  "metadata": {
    "colab": {
      "name": "Multivariate Linear Regression.ipynb",
      "provenance": [],
      "collapsed_sections": []
    },
    "kernelspec": {
      "name": "python3",
      "display_name": "Python 3"
    },
    "language_info": {
      "name": "python"
    }
  },
  "cells": [
    {
      "cell_type": "code",
      "execution_count": 1,
      "metadata": {
        "id": "nDi5e_T0pl9Y"
      },
      "outputs": [],
      "source": [
        "import numpy as np\n",
        "import matplotlib.pyplot as plt"
      ]
    },
    {
      "cell_type": "code",
      "source": [
        "x = np.array([[1],\n",
        "              [4],\n",
        "              [3],\n",
        "              [8],\n",
        "              [6],\n",
        "              [5]])\n",
        "y = np.array([300,1150,820,2570,1590,1400])\n",
        "plt.scatter(x,y)\n",
        "plt.show()"
      ],
      "metadata": {
        "colab": {
          "base_uri": "https://localhost:8080/",
          "height": 265
        },
        "id": "AqL2McwIFIWG",
        "outputId": "02a5e97e-e6f1-47e1-d758-1e33bde1e66d"
      },
      "execution_count": 2,
      "outputs": [
        {
          "output_type": "display_data",
          "data": {
            "image/png": "[encoded data removed]",
            "text/plain": [
              "<Figure size 432x288 with 1 Axes>"
            ]
          },
          "metadata": {
            "needs_background": "light"
          }
        }
      ]
    },
    {
      "cell_type": "code",
      "source": [
        "class LinearRegression():\n",
        "  def __init__(self):\n",
        "    pass\n",
        "\n",
        "  def fit(self,x,y,lr=0.01,max_step=500):\n",
        "    self.weights = np.zeros(x.shape[1])\n",
        "    self.bias = 0.0\n",
        "    loss = 0.0\n",
        "    f = x.shape[0]\n",
        "    step = 0\n",
        "    for i in range(max_step):\n",
        "      step += 1\n",
        "      y_preds = np.matmul(x,self.weights) + self.bias\n",
        "      loss = np.sum([((y[count]-y_pred)**2) for count,y_pred in enumerate(y_preds)])\n",
        "      bias_derivative = np.sum([((-2)*(y[count]-y_pred)) for count,y_pred in enumerate(y_preds)])\n",
        "      weight_derivatives = np.zeros(self.weights.shape[0])\n",
        "      for counter,weight in enumerate(self.weights):\n",
        "        weight_derivatives[counter] = np.sum([((-2)*(y[count]-y_pred)*x[count,counter]) for count,y_pred in enumerate(y_preds)])\n",
        "      self.bias = self.bias - (lr*bias_derivative)\n",
        "      self.weights = self.weights - (lr*weight_derivatives)\n",
        "    print('Loss = ',loss)\n",
        "    print('pelatihan selesai pada step ke-',step)\n",
        "    \n",
        "  def predict(self,x):\n",
        "    return (np.matmul(x,self.weights)+self.bias)      "
      ],
      "metadata": {
        "id": "rTpBb4YAqfu6"
      },
      "execution_count": 3,
      "outputs": []
    },
    {
      "cell_type": "code",
      "source": [
        "def MinMaxScaler(x):\n",
        "  if (x.ndim == 1):\n",
        "    return [((i-np.min(x))/(np.max(x)-np.min(x))) for i in x]\n",
        "  elif (x.ndim > 1):\n",
        "    res = np.zeros((x.shape[0],x.shape[1]))\n",
        "    for column in range(x.shape[1]):\n",
        "      for row in range(x.shape[0]):\n",
        "        res[row,column] = (x[row,column]-np.min(x[:,column]))/(np.max(x[:,column])-np.min(x[:,column]))\n",
        "    return res \n"
      ],
      "metadata": {
        "id": "ARKk1vK7BhW-"
      },
      "execution_count": 4,
      "outputs": []
    },
    {
      "cell_type": "code",
      "source": [
        "x = MinMaxScaler(x)\n",
        "y = MinMaxScaler(y)\n",
        "plt.scatter(x,y)\n",
        "plt.show()"
      ],
      "metadata": {
        "colab": {
          "base_uri": "https://localhost:8080/",
          "height": 265
        },
        "id": "8n3ovMqUHFY5",
        "outputId": "48de62ad-4159-4ad2-fe9c-e74f402ad228"
      },
      "execution_count": 5,
      "outputs": [
        {
          "output_type": "display_data",
          "data": {
            "image/png": "[encoded data removed]",
            "text/plain": [
              "<Figure size 432x288 with 1 Axes>"
            ]
          },
          "metadata": {
            "needs_background": "light"
          }
        }
      ]
    },
    {
      "cell_type": "code",
      "source": [
        "model = LinearRegression()\n",
        "model.fit(x,y,max_step=2000,lr=0.01)"
      ],
      "metadata": {
        "colab": {
          "base_uri": "https://localhost:8080/"
        },
        "id": "ZEYw1Y9ARGGk",
        "outputId": "6d47b9ac-279d-462f-e327-a8967455f636"
      },
      "execution_count": 6,
      "outputs": [
        {
          "output_type": "stream",
          "name": "stdout",
          "text": [
            "Loss =  0.014551621581528408\n",
            "pelatihan selesai pada step ke- 2000\n"
          ]
        }
      ]
    },
    {
      "cell_type": "code",
      "source": [
        "print(model.bias)\n",
        "print(model.weights)"
      ],
      "metadata": {
        "colab": {
          "base_uri": "https://localhost:8080/"
        },
        "id": "fygvV8_AU89J",
        "outputId": "1ec85710-50dc-47ff-c388-5ce47a9bbb29"
      },
      "execution_count": 7,
      "outputs": [
        {
          "output_type": "stream",
          "name": "stdout",
          "text": [
            "-0.03942357723686706\n",
            "[0.96430971]\n"
          ]
        }
      ]
    },
    {
      "cell_type": "code",
      "source": [
        "plt.scatter(x,y)\n",
        "x_plot = np.array([[0.],[1.]])\n",
        "y_plot = np.array(model.predict(x_plot))\n",
        "plt.plot(x_plot,y_plot)"
      ],
      "metadata": {
        "colab": {
          "base_uri": "https://localhost:8080/",
          "height": 284
        },
        "id": "hU1Qm-ozVLvI",
        "outputId": "2d3b3261-006f-4a86-c3df-b23dbd0512c3"
      },
      "execution_count": 8,
      "outputs": [
        {
          "output_type": "execute_result",
          "data": {
            "text/plain": [
              "[<matplotlib.lines.Line2D at 0x7f408afd7590>]"
            ]
          },
          "metadata": {},
          "execution_count": 8
        },
        {
          "output_type": "display_data",
          "data": {
            "image/png": "[encoded data removed]",
            "text/plain": [
              "<Figure size 432x288 with 1 Axes>"
            ]
          },
          "metadata": {
            "needs_background": "light"
          }
        }
      ]
    }
  ]
}